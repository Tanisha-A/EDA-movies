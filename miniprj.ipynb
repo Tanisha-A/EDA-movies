{
 "cells": [
  {
   "cell_type": "code",
   "execution_count": 385,
   "metadata": {},
   "outputs": [],
   "source": [
    "import pandas as pd\n",
    "import numpy as np\n",
    "\n",
    "df = pd.read_csv(\"C:\\Tanisha\\VERZEO PY-ML\\Mini prj EDA\\code\\\\tmdb-movies.csv\")\n",
    "length = len(df)"
   ]
  },
  {
   "cell_type": "code",
   "execution_count": 386,
   "metadata": {},
   "outputs": [
    {
     "output_type": "stream",
     "name": "stdout",
     "text": [
      "<class 'pandas.core.frame.DataFrame'>\nRangeIndex: 10866 entries, 0 to 10865\nData columns (total 21 columns):\n #   Column                Non-Null Count  Dtype  \n---  ------                --------------  -----  \n 0   id                    10866 non-null  int64  \n 1   imdb_id               10856 non-null  object \n 2   popularity            10866 non-null  float64\n 3   budget                10866 non-null  int64  \n 4   revenue               10866 non-null  int64  \n 5   original_title        10866 non-null  object \n 6   cast                  10790 non-null  object \n 7   homepage              2936 non-null   object \n 8   director              10822 non-null  object \n 9   tagline               8042 non-null   object \n 10  keywords              9373 non-null   object \n 11  overview              10862 non-null  object \n 12  runtime               10866 non-null  int64  \n 13  genres                10843 non-null  object \n 14  production_companies  9836 non-null   object \n 15  release_date          10866 non-null  object \n 16  vote_count            10866 non-null  int64  \n 17  vote_average          10866 non-null  float64\n 18  release_year          10866 non-null  int64  \n 19  budget_adj            10866 non-null  float64\n 20  revenue_adj           10866 non-null  float64\ndtypes: float64(4), int64(6), object(11)\nmemory usage: 1.7+ MB\n"
     ]
    }
   ],
   "source": [
    "df.shape\n",
    "df.info()\n"
   ]
  },
  {
   "cell_type": "code",
   "execution_count": 387,
   "metadata": {},
   "outputs": [
    {
     "output_type": "execute_result",
     "data": {
      "text/plain": [
       "homepage                7930\n",
       "tagline                 2824\n",
       "keywords                1493\n",
       "production_companies    1030\n",
       "cast                      76\n",
       "director                  44\n",
       "genres                    23\n",
       "imdb_id                   10\n",
       "overview                   4\n",
       "budget_adj                 0\n",
       "release_year               0\n",
       "vote_average               0\n",
       "vote_count                 0\n",
       "release_date               0\n",
       "id                         0\n",
       "runtime                    0\n",
       "original_title             0\n",
       "revenue                    0\n",
       "budget                     0\n",
       "popularity                 0\n",
       "revenue_adj                0\n",
       "dtype: int64"
      ]
     },
     "metadata": {},
     "execution_count": 387
    }
   ],
   "source": [
    "#checking for columns having null values\n",
    "df.isnull().sum(axis=0).sort_values(ascending=False)"
   ]
  },
  {
   "cell_type": "code",
   "execution_count": 388,
   "metadata": {},
   "outputs": [
    {
     "output_type": "execute_result",
     "data": {
      "text/plain": [
       "997     6\n",
       "2397    6\n",
       "5413    6\n",
       "2370    6\n",
       "3369    6\n",
       "       ..\n",
       "4670    0\n",
       "4678    0\n",
       "4681    0\n",
       "4702    0\n",
       "5433    0\n",
       "Length: 10866, dtype: int64"
      ]
     },
     "metadata": {},
     "execution_count": 388
    }
   ],
   "source": [
    "#checking for rows having null values\n",
    "df.isnull().sum(axis=1).sort_values(ascending=False)"
   ]
  },
  {
   "cell_type": "code",
   "execution_count": 389,
   "metadata": {},
   "outputs": [
    {
     "output_type": "execute_result",
     "data": {
      "text/plain": [
       "           id  popularity     budget     revenue  \\\n",
       "0      135397   32.985763  150000000  1513528810   \n",
       "1       76341   28.419936  150000000   378436354   \n",
       "2      262500   13.112507  110000000   295238201   \n",
       "3      140607   11.173104  200000000  2068178225   \n",
       "4      168259    9.335014  190000000  1506249360   \n",
       "...       ...         ...        ...         ...   \n",
       "10861      21    0.080598          0           0   \n",
       "10862   20379    0.065543          0           0   \n",
       "10863   39768    0.065141          0           0   \n",
       "10864   21449    0.064317          0           0   \n",
       "10865   22293    0.035919      19000           0   \n",
       "\n",
       "                     original_title  \\\n",
       "0                    Jurassic World   \n",
       "1                Mad Max: Fury Road   \n",
       "2                         Insurgent   \n",
       "3      Star Wars: The Force Awakens   \n",
       "4                         Furious 7   \n",
       "...                             ...   \n",
       "10861            The Endless Summer   \n",
       "10862                    Grand Prix   \n",
       "10863           Beregis Avtomobilya   \n",
       "10864        What's Up, Tiger Lily?   \n",
       "10865      Manos: The Hands of Fate   \n",
       "\n",
       "                                                    cast  runtime  \\\n",
       "0      Chris Pratt|Bryce Dallas Howard|Irrfan Khan|Vi...      124   \n",
       "1      Tom Hardy|Charlize Theron|Hugh Keays-Byrne|Nic...      120   \n",
       "2      Shailene Woodley|Theo James|Kate Winslet|Ansel...      119   \n",
       "3      Harrison Ford|Mark Hamill|Carrie Fisher|Adam D...      136   \n",
       "4      Vin Diesel|Paul Walker|Jason Statham|Michelle ...      137   \n",
       "...                                                  ...      ...   \n",
       "10861  Michael Hynson|Robert August|Lord 'Tally Ho' B...       95   \n",
       "10862  James Garner|Eva Marie Saint|Yves Montand|Tosh...      176   \n",
       "10863  Innokentiy Smoktunovskiy|Oleg Efremov|Georgi Z...       94   \n",
       "10864  Tatsuya Mihashi|Akiko Wakabayashi|Mie Hama|Joh...       80   \n",
       "10865  Harold P. Warren|Tom Neyman|John Reynolds|Dian...       74   \n",
       "\n",
       "                                          genres release_date  release_year  \\\n",
       "0      Action|Adventure|Science Fiction|Thriller       6/9/15          2015   \n",
       "1      Action|Adventure|Science Fiction|Thriller      5/13/15          2015   \n",
       "2             Adventure|Science Fiction|Thriller      3/18/15          2015   \n",
       "3       Action|Adventure|Science Fiction|Fantasy     12/15/15          2015   \n",
       "4                          Action|Crime|Thriller       4/1/15          2015   \n",
       "...                                          ...          ...           ...   \n",
       "10861                                Documentary      6/15/66          1966   \n",
       "10862                     Action|Adventure|Drama     12/21/66          1966   \n",
       "10863                             Mystery|Comedy       1/1/66          1966   \n",
       "10864                              Action|Comedy      11/2/66          1966   \n",
       "10865                                     Horror     11/15/66          1966   \n",
       "\n",
       "         budget_adj   revenue_adj  \n",
       "0      1.379999e+08  1.392446e+09  \n",
       "1      1.379999e+08  3.481613e+08  \n",
       "2      1.012000e+08  2.716190e+08  \n",
       "3      1.839999e+08  1.902723e+09  \n",
       "4      1.747999e+08  1.385749e+09  \n",
       "...             ...           ...  \n",
       "10861  0.000000e+00  0.000000e+00  \n",
       "10862  0.000000e+00  0.000000e+00  \n",
       "10863  0.000000e+00  0.000000e+00  \n",
       "10864  0.000000e+00  0.000000e+00  \n",
       "10865  1.276423e+05  0.000000e+00  \n",
       "\n",
       "[10866 rows x 12 columns]"
      ],
      "text/html": "<div>\n<style scoped>\n    .dataframe tbody tr th:only-of-type {\n        vertical-align: middle;\n    }\n\n    .dataframe tbody tr th {\n        vertical-align: top;\n    }\n\n    .dataframe thead th {\n        text-align: right;\n    }\n</style>\n<table border=\"1\" class=\"dataframe\">\n  <thead>\n    <tr style=\"text-align: right;\">\n      <th></th>\n      <th>id</th>\n      <th>popularity</th>\n      <th>budget</th>\n      <th>revenue</th>\n      <th>original_title</th>\n      <th>cast</th>\n      <th>runtime</th>\n      <th>genres</th>\n      <th>release_date</th>\n      <th>release_year</th>\n      <th>budget_adj</th>\n      <th>revenue_adj</th>\n    </tr>\n  </thead>\n  <tbody>\n    <tr>\n      <th>0</th>\n      <td>135397</td>\n      <td>32.985763</td>\n      <td>150000000</td>\n      <td>1513528810</td>\n      <td>Jurassic World</td>\n      <td>Chris Pratt|Bryce Dallas Howard|Irrfan Khan|Vi...</td>\n      <td>124</td>\n      <td>Action|Adventure|Science Fiction|Thriller</td>\n      <td>6/9/15</td>\n      <td>2015</td>\n      <td>1.379999e+08</td>\n      <td>1.392446e+09</td>\n    </tr>\n    <tr>\n      <th>1</th>\n      <td>76341</td>\n      <td>28.419936</td>\n      <td>150000000</td>\n      <td>378436354</td>\n      <td>Mad Max: Fury Road</td>\n      <td>Tom Hardy|Charlize Theron|Hugh Keays-Byrne|Nic...</td>\n      <td>120</td>\n      <td>Action|Adventure|Science Fiction|Thriller</td>\n      <td>5/13/15</td>\n      <td>2015</td>\n      <td>1.379999e+08</td>\n      <td>3.481613e+08</td>\n    </tr>\n    <tr>\n      <th>2</th>\n      <td>262500</td>\n      <td>13.112507</td>\n      <td>110000000</td>\n      <td>295238201</td>\n      <td>Insurgent</td>\n      <td>Shailene Woodley|Theo James|Kate Winslet|Ansel...</td>\n      <td>119</td>\n      <td>Adventure|Science Fiction|Thriller</td>\n      <td>3/18/15</td>\n      <td>2015</td>\n      <td>1.012000e+08</td>\n      <td>2.716190e+08</td>\n    </tr>\n    <tr>\n      <th>3</th>\n      <td>140607</td>\n      <td>11.173104</td>\n      <td>200000000</td>\n      <td>2068178225</td>\n      <td>Star Wars: The Force Awakens</td>\n      <td>Harrison Ford|Mark Hamill|Carrie Fisher|Adam D...</td>\n      <td>136</td>\n      <td>Action|Adventure|Science Fiction|Fantasy</td>\n      <td>12/15/15</td>\n      <td>2015</td>\n      <td>1.839999e+08</td>\n      <td>1.902723e+09</td>\n    </tr>\n    <tr>\n      <th>4</th>\n      <td>168259</td>\n      <td>9.335014</td>\n      <td>190000000</td>\n      <td>1506249360</td>\n      <td>Furious 7</td>\n      <td>Vin Diesel|Paul Walker|Jason Statham|Michelle ...</td>\n      <td>137</td>\n      <td>Action|Crime|Thriller</td>\n      <td>4/1/15</td>\n      <td>2015</td>\n      <td>1.747999e+08</td>\n      <td>1.385749e+09</td>\n    </tr>\n    <tr>\n      <th>...</th>\n      <td>...</td>\n      <td>...</td>\n      <td>...</td>\n      <td>...</td>\n      <td>...</td>\n      <td>...</td>\n      <td>...</td>\n      <td>...</td>\n      <td>...</td>\n      <td>...</td>\n      <td>...</td>\n      <td>...</td>\n    </tr>\n    <tr>\n      <th>10861</th>\n      <td>21</td>\n      <td>0.080598</td>\n      <td>0</td>\n      <td>0</td>\n      <td>The Endless Summer</td>\n      <td>Michael Hynson|Robert August|Lord 'Tally Ho' B...</td>\n      <td>95</td>\n      <td>Documentary</td>\n      <td>6/15/66</td>\n      <td>1966</td>\n      <td>0.000000e+00</td>\n      <td>0.000000e+00</td>\n    </tr>\n    <tr>\n      <th>10862</th>\n      <td>20379</td>\n      <td>0.065543</td>\n      <td>0</td>\n      <td>0</td>\n      <td>Grand Prix</td>\n      <td>James Garner|Eva Marie Saint|Yves Montand|Tosh...</td>\n      <td>176</td>\n      <td>Action|Adventure|Drama</td>\n      <td>12/21/66</td>\n      <td>1966</td>\n      <td>0.000000e+00</td>\n      <td>0.000000e+00</td>\n    </tr>\n    <tr>\n      <th>10863</th>\n      <td>39768</td>\n      <td>0.065141</td>\n      <td>0</td>\n      <td>0</td>\n      <td>Beregis Avtomobilya</td>\n      <td>Innokentiy Smoktunovskiy|Oleg Efremov|Georgi Z...</td>\n      <td>94</td>\n      <td>Mystery|Comedy</td>\n      <td>1/1/66</td>\n      <td>1966</td>\n      <td>0.000000e+00</td>\n      <td>0.000000e+00</td>\n    </tr>\n    <tr>\n      <th>10864</th>\n      <td>21449</td>\n      <td>0.064317</td>\n      <td>0</td>\n      <td>0</td>\n      <td>What's Up, Tiger Lily?</td>\n      <td>Tatsuya Mihashi|Akiko Wakabayashi|Mie Hama|Joh...</td>\n      <td>80</td>\n      <td>Action|Comedy</td>\n      <td>11/2/66</td>\n      <td>1966</td>\n      <td>0.000000e+00</td>\n      <td>0.000000e+00</td>\n    </tr>\n    <tr>\n      <th>10865</th>\n      <td>22293</td>\n      <td>0.035919</td>\n      <td>19000</td>\n      <td>0</td>\n      <td>Manos: The Hands of Fate</td>\n      <td>Harold P. Warren|Tom Neyman|John Reynolds|Dian...</td>\n      <td>74</td>\n      <td>Horror</td>\n      <td>11/15/66</td>\n      <td>1966</td>\n      <td>1.276423e+05</td>\n      <td>0.000000e+00</td>\n    </tr>\n  </tbody>\n</table>\n<p>10866 rows × 12 columns</p>\n</div>"
     },
     "metadata": {},
     "execution_count": 389
    }
   ],
   "source": [
    "#removing non required columns\n",
    "df.drop([\n",
    "    'homepage',\n",
    "    'tagline', \n",
    "    'keywords',\n",
    "    'production_companies',\n",
    "    'director',\n",
    "    'imdb_id',\n",
    "    'overview',\n",
    "    'vote_count',\n",
    "    'vote_average'\n",
    "],axis=1)"
   ]
  },
  {
   "cell_type": "code",
   "execution_count": 390,
   "metadata": {},
   "outputs": [],
   "source": [
    "df = df.drop([\n",
    "    'homepage',\n",
    "    'tagline', \n",
    "    'keywords',\n",
    "    'production_companies',\n",
    "    'director',\n",
    "    'imdb_id',\n",
    "    'overview',\n",
    "    'vote_count',\n",
    "    'vote_average'\n",
    "],axis=1)"
   ]
  },
  {
   "cell_type": "code",
   "execution_count": 391,
   "metadata": {},
   "outputs": [
    {
     "output_type": "execute_result",
     "data": {
      "text/plain": [
       "cast              0.70\n",
       "genres            0.21\n",
       "id                0.00\n",
       "popularity        0.00\n",
       "budget            0.00\n",
       "revenue           0.00\n",
       "original_title    0.00\n",
       "runtime           0.00\n",
       "release_date      0.00\n",
       "release_year      0.00\n",
       "budget_adj        0.00\n",
       "revenue_adj       0.00\n",
       "dtype: float64"
      ]
     },
     "metadata": {},
     "execution_count": 391
    }
   ],
   "source": [
    "round(df.isnull().sum().sort_values(ascending=False)/length*100,2)"
   ]
  },
  {
   "cell_type": "code",
   "execution_count": 392,
   "metadata": {},
   "outputs": [
    {
     "output_type": "execute_result",
     "data": {
      "text/plain": [
       "cast              76\n",
       "genres            23\n",
       "id                 0\n",
       "popularity         0\n",
       "budget             0\n",
       "revenue            0\n",
       "original_title     0\n",
       "runtime            0\n",
       "release_date       0\n",
       "release_year       0\n",
       "budget_adj         0\n",
       "revenue_adj        0\n",
       "dtype: int64"
      ]
     },
     "metadata": {},
     "execution_count": 392
    }
   ],
   "source": [
    "#null values in columns\n",
    "df.isnull().sum().sort_values(ascending=False)"
   ]
  },
  {
   "cell_type": "code",
   "execution_count": 393,
   "metadata": {},
   "outputs": [
    {
     "output_type": "stream",
     "name": "stdout",
     "text": [
      "\n"
     ]
    }
   ],
   "source": [
    "df.fillna(0)\n",
    "print()"
   ]
  },
  {
   "cell_type": "code",
   "execution_count": 394,
   "metadata": {},
   "outputs": [
    {
     "output_type": "execute_result",
     "data": {
      "text/plain": [
       "1"
      ]
     },
     "metadata": {},
     "execution_count": 394
    }
   ],
   "source": [
    "sum(df.duplicated())"
   ]
  },
  {
   "cell_type": "code",
   "execution_count": 395,
   "metadata": {},
   "outputs": [],
   "source": [
    "#drop duplicates\n",
    "df = df.drop_duplicates(keep='first')"
   ]
  },
  {
   "cell_type": "code",
   "execution_count": 396,
   "metadata": {},
   "outputs": [],
   "source": [
    "#df = df.drop(df[df['revenue']<=0].index)\n",
    "#df = df.drop(df[df['budget']<=0].index)"
   ]
  },
  {
   "cell_type": "code",
   "execution_count": 415,
   "metadata": {},
   "outputs": [
    {
     "output_type": "execute_result",
     "data": {
      "text/plain": [
       "          id  popularity  budget  revenue                      original_title  \\\n",
       "3581   59296    0.520430       1     1378             Love, Wedding, Marriage   \n",
       "3065   12689    0.472691       1        0  Angus, Thongs and Perfect Snogging   \n",
       "1151  287524    0.177102       1        0                         Fear Clinic   \n",
       "\n",
       "                                                   cast  runtime  \\\n",
       "3581  Mandy Moore|Kellan Lutz|Jessica Szohr|Autumn F...       90   \n",
       "3065  Georgia Groome|Eleanor Tomlinson|Aaron Taylor-...      100   \n",
       "1151  Thomas Dekker|Robert Englund|Cleopatra Coleman...       95   \n",
       "\n",
       "                           genres release_date  release_year  budget_adj  \\\n",
       "3581               Comedy|Romance       6/3/11          2011    0.969398   \n",
       "3065  Comedy|Drama|Family|Romance      7/25/08          2008    1.012787   \n",
       "1151                       Horror     10/31/14          2014    0.921091   \n",
       "\n",
       "      revenue_adj  \n",
       "3581  1335.830503  \n",
       "3065     0.000000  \n",
       "1151     0.000000  "
      ],
      "text/html": "<div>\n<style scoped>\n    .dataframe tbody tr th:only-of-type {\n        vertical-align: middle;\n    }\n\n    .dataframe tbody tr th {\n        vertical-align: top;\n    }\n\n    .dataframe thead th {\n        text-align: right;\n    }\n</style>\n<table border=\"1\" class=\"dataframe\">\n  <thead>\n    <tr style=\"text-align: right;\">\n      <th></th>\n      <th>id</th>\n      <th>popularity</th>\n      <th>budget</th>\n      <th>revenue</th>\n      <th>original_title</th>\n      <th>cast</th>\n      <th>runtime</th>\n      <th>genres</th>\n      <th>release_date</th>\n      <th>release_year</th>\n      <th>budget_adj</th>\n      <th>revenue_adj</th>\n    </tr>\n  </thead>\n  <tbody>\n    <tr>\n      <th>3581</th>\n      <td>59296</td>\n      <td>0.520430</td>\n      <td>1</td>\n      <td>1378</td>\n      <td>Love, Wedding, Marriage</td>\n      <td>Mandy Moore|Kellan Lutz|Jessica Szohr|Autumn F...</td>\n      <td>90</td>\n      <td>Comedy|Romance</td>\n      <td>6/3/11</td>\n      <td>2011</td>\n      <td>0.969398</td>\n      <td>1335.830503</td>\n    </tr>\n    <tr>\n      <th>3065</th>\n      <td>12689</td>\n      <td>0.472691</td>\n      <td>1</td>\n      <td>0</td>\n      <td>Angus, Thongs and Perfect Snogging</td>\n      <td>Georgia Groome|Eleanor Tomlinson|Aaron Taylor-...</td>\n      <td>100</td>\n      <td>Comedy|Drama|Family|Romance</td>\n      <td>7/25/08</td>\n      <td>2008</td>\n      <td>1.012787</td>\n      <td>0.000000</td>\n    </tr>\n    <tr>\n      <th>1151</th>\n      <td>287524</td>\n      <td>0.177102</td>\n      <td>1</td>\n      <td>0</td>\n      <td>Fear Clinic</td>\n      <td>Thomas Dekker|Robert Englund|Cleopatra Coleman...</td>\n      <td>95</td>\n      <td>Horror</td>\n      <td>10/31/14</td>\n      <td>2014</td>\n      <td>0.921091</td>\n      <td>0.000000</td>\n    </tr>\n  </tbody>\n</table>\n</div>"
     },
     "metadata": {},
     "execution_count": 415
    }
   ],
   "source": [
    "#3rd lowest budget #fear clinic\n",
    "df = df.drop(df[df['budget']<=0].index)\n",
    "sort1 = df.sort_values(\"budget\",ascending=True)\n",
    "sort1.head(3)"
   ]
  },
  {
   "cell_type": "code",
   "execution_count": 398,
   "metadata": {},
   "outputs": [
    {
     "output_type": "execute_result",
     "data": {
      "text/plain": [
       "         id  popularity     budget     revenue  \\\n",
       "2244  46528    0.250540  425000000    11087569   \n",
       "3375   1865    4.955130  380000000  1021683000   \n",
       "7387    285    4.965391  300000000   961000000   \n",
       "\n",
       "                                   original_title  \\\n",
       "2244                            The Warrior's Way   \n",
       "3375  Pirates of the Caribbean: On Stranger Tides   \n",
       "7387     Pirates of the Caribbean: At World's End   \n",
       "\n",
       "                                                   cast  runtime  \\\n",
       "2244  Kate Bosworth|Jang Dong-gun|Geoffrey Rush|Dann...      100   \n",
       "3375  Johnny Depp|PenÃ©lope Cruz|Geoffrey Rush|Ian M...      136   \n",
       "7387  Johnny Depp|Orlando Bloom|Keira Knightley|Geof...      169   \n",
       "\n",
       "                                         genres release_date  release_year  \\\n",
       "2244  Adventure|Fantasy|Action|Western|Thriller      12/2/10          2010   \n",
       "3375                   Adventure|Action|Fantasy      5/11/11          2011   \n",
       "7387                   Adventure|Fantasy|Action      5/19/07          2007   \n",
       "\n",
       "        budget_adj   revenue_adj  \n",
       "2244  4.250000e+08  1.108757e+07  \n",
       "3375  3.683713e+08  9.904175e+08  \n",
       "7387  3.155006e+08  1.010654e+09  "
      ],
      "text/html": "<div>\n<style scoped>\n    .dataframe tbody tr th:only-of-type {\n        vertical-align: middle;\n    }\n\n    .dataframe tbody tr th {\n        vertical-align: top;\n    }\n\n    .dataframe thead th {\n        text-align: right;\n    }\n</style>\n<table border=\"1\" class=\"dataframe\">\n  <thead>\n    <tr style=\"text-align: right;\">\n      <th></th>\n      <th>id</th>\n      <th>popularity</th>\n      <th>budget</th>\n      <th>revenue</th>\n      <th>original_title</th>\n      <th>cast</th>\n      <th>runtime</th>\n      <th>genres</th>\n      <th>release_date</th>\n      <th>release_year</th>\n      <th>budget_adj</th>\n      <th>revenue_adj</th>\n    </tr>\n  </thead>\n  <tbody>\n    <tr>\n      <th>2244</th>\n      <td>46528</td>\n      <td>0.250540</td>\n      <td>425000000</td>\n      <td>11087569</td>\n      <td>The Warrior's Way</td>\n      <td>Kate Bosworth|Jang Dong-gun|Geoffrey Rush|Dann...</td>\n      <td>100</td>\n      <td>Adventure|Fantasy|Action|Western|Thriller</td>\n      <td>12/2/10</td>\n      <td>2010</td>\n      <td>4.250000e+08</td>\n      <td>1.108757e+07</td>\n    </tr>\n    <tr>\n      <th>3375</th>\n      <td>1865</td>\n      <td>4.955130</td>\n      <td>380000000</td>\n      <td>1021683000</td>\n      <td>Pirates of the Caribbean: On Stranger Tides</td>\n      <td>Johnny Depp|PenÃ©lope Cruz|Geoffrey Rush|Ian M...</td>\n      <td>136</td>\n      <td>Adventure|Action|Fantasy</td>\n      <td>5/11/11</td>\n      <td>2011</td>\n      <td>3.683713e+08</td>\n      <td>9.904175e+08</td>\n    </tr>\n    <tr>\n      <th>7387</th>\n      <td>285</td>\n      <td>4.965391</td>\n      <td>300000000</td>\n      <td>961000000</td>\n      <td>Pirates of the Caribbean: At World's End</td>\n      <td>Johnny Depp|Orlando Bloom|Keira Knightley|Geof...</td>\n      <td>169</td>\n      <td>Adventure|Fantasy|Action</td>\n      <td>5/19/07</td>\n      <td>2007</td>\n      <td>3.155006e+08</td>\n      <td>1.010654e+09</td>\n    </tr>\n  </tbody>\n</table>\n</div>"
     },
     "metadata": {},
     "execution_count": 398
    }
   ],
   "source": [
    "#3rd highest budget # Pirates of the Carribean:At the World's End\n",
    "df.drop(df[df['budget']<=0].index)\n",
    "sort2 = df.sort_values(\"budget\",ascending=False)\n",
    "sort2.head(3)"
   ]
  },
  {
   "cell_type": "code",
   "execution_count": 416,
   "metadata": {},
   "outputs": [
    {
     "output_type": "execute_result",
     "data": {
      "text/plain": [
       "        id  popularity   budget  revenue original_title  \\\n",
       "8142  2293    0.552091  6000000        2       Mallrats   \n",
       "\n",
       "                                                   cast  runtime  \\\n",
       "8142  Jason Lee|Jeremy London|Shannen Doherty|Claire...       94   \n",
       "\n",
       "              genres release_date  release_year    budget_adj  revenue_adj  \n",
       "8142  Romance|Comedy     10/20/95          1995  8.585801e+06     2.861934  "
      ],
      "text/html": "<div>\n<style scoped>\n    .dataframe tbody tr th:only-of-type {\n        vertical-align: middle;\n    }\n\n    .dataframe tbody tr th {\n        vertical-align: top;\n    }\n\n    .dataframe thead th {\n        text-align: right;\n    }\n</style>\n<table border=\"1\" class=\"dataframe\">\n  <thead>\n    <tr style=\"text-align: right;\">\n      <th></th>\n      <th>id</th>\n      <th>popularity</th>\n      <th>budget</th>\n      <th>revenue</th>\n      <th>original_title</th>\n      <th>cast</th>\n      <th>runtime</th>\n      <th>genres</th>\n      <th>release_date</th>\n      <th>release_year</th>\n      <th>budget_adj</th>\n      <th>revenue_adj</th>\n    </tr>\n  </thead>\n  <tbody>\n    <tr>\n      <th>8142</th>\n      <td>2293</td>\n      <td>0.552091</td>\n      <td>6000000</td>\n      <td>2</td>\n      <td>Mallrats</td>\n      <td>Jason Lee|Jeremy London|Shannen Doherty|Claire...</td>\n      <td>94</td>\n      <td>Romance|Comedy</td>\n      <td>10/20/95</td>\n      <td>1995</td>\n      <td>8.585801e+06</td>\n      <td>2.861934</td>\n    </tr>\n  </tbody>\n</table>\n</div>"
     },
     "metadata": {},
     "execution_count": 416
    }
   ],
   "source": [
    "#question4 lowest\n",
    "df = df.drop(df[df['revenue']<=0].index)\n",
    "sort4=df.sort_values(\"revenue\", ascending=True) #Sort in ascending to find least earned revenue\n",
    "sort4.head(1)\n",
    "#Mallrats with 2 dollars"
   ]
  },
  {
   "cell_type": "code",
   "execution_count": 400,
   "metadata": {},
   "outputs": [
    {
     "output_type": "execute_result",
     "data": {
      "text/plain": [
       "         id  popularity     budget     revenue original_title  \\\n",
       "1386  19995    9.432768  237000000  2781505847         Avatar   \n",
       "\n",
       "                                                   cast  runtime  \\\n",
       "1386  Sam Worthington|Zoe Saldana|Sigourney Weaver|S...      162   \n",
       "\n",
       "                                        genres release_date  release_year  \\\n",
       "1386  Action|Adventure|Fantasy|Science Fiction     12/10/09          2009   \n",
       "\n",
       "        budget_adj   revenue_adj  \n",
       "1386  2.408869e+08  2.827124e+09  "
      ],
      "text/html": "<div>\n<style scoped>\n    .dataframe tbody tr th:only-of-type {\n        vertical-align: middle;\n    }\n\n    .dataframe tbody tr th {\n        vertical-align: top;\n    }\n\n    .dataframe thead th {\n        text-align: right;\n    }\n</style>\n<table border=\"1\" class=\"dataframe\">\n  <thead>\n    <tr style=\"text-align: right;\">\n      <th></th>\n      <th>id</th>\n      <th>popularity</th>\n      <th>budget</th>\n      <th>revenue</th>\n      <th>original_title</th>\n      <th>cast</th>\n      <th>runtime</th>\n      <th>genres</th>\n      <th>release_date</th>\n      <th>release_year</th>\n      <th>budget_adj</th>\n      <th>revenue_adj</th>\n    </tr>\n  </thead>\n  <tbody>\n    <tr>\n      <th>1386</th>\n      <td>19995</td>\n      <td>9.432768</td>\n      <td>237000000</td>\n      <td>2781505847</td>\n      <td>Avatar</td>\n      <td>Sam Worthington|Zoe Saldana|Sigourney Weaver|S...</td>\n      <td>162</td>\n      <td>Action|Adventure|Fantasy|Science Fiction</td>\n      <td>12/10/09</td>\n      <td>2009</td>\n      <td>2.408869e+08</td>\n      <td>2.827124e+09</td>\n    </tr>\n  </tbody>\n</table>\n</div>"
     },
     "metadata": {},
     "execution_count": 400
    }
   ],
   "source": [
    "#question4 highest\n",
    "df.drop(df[df['revenue']<=0].index)\n",
    "sort5=df.sort_values(\"revenue\", ascending=False)\n",
    "sort5.head(1)\n",
    "#avatar with 2781505847 dollars"
   ]
  },
  {
   "cell_type": "code",
   "execution_count": 401,
   "metadata": {},
   "outputs": [
    {
     "output_type": "execute_result",
     "data": {
      "text/plain": [
       "           id  popularity     budget     revenue  \\\n",
       "0      135397   32.985763  150000000  1513528810   \n",
       "1       76341   28.419936  150000000   378436354   \n",
       "2      262500   13.112507  110000000   295238201   \n",
       "3      140607   11.173104  200000000  2068178225   \n",
       "4      168259    9.335014  190000000  1506249360   \n",
       "...       ...         ...        ...         ...   \n",
       "10861      21    0.080598          0           0   \n",
       "10862   20379    0.065543          0           0   \n",
       "10863   39768    0.065141          0           0   \n",
       "10864   21449    0.064317          0           0   \n",
       "10865   22293    0.035919      19000           0   \n",
       "\n",
       "                     original_title  \\\n",
       "0                    Jurassic World   \n",
       "1                Mad Max: Fury Road   \n",
       "2                         Insurgent   \n",
       "3      Star Wars: The Force Awakens   \n",
       "4                         Furious 7   \n",
       "...                             ...   \n",
       "10861            The Endless Summer   \n",
       "10862                    Grand Prix   \n",
       "10863           Beregis Avtomobilya   \n",
       "10864        What's Up, Tiger Lily?   \n",
       "10865      Manos: The Hands of Fate   \n",
       "\n",
       "                                                    cast  runtime  \\\n",
       "0      Chris Pratt|Bryce Dallas Howard|Irrfan Khan|Vi...      124   \n",
       "1      Tom Hardy|Charlize Theron|Hugh Keays-Byrne|Nic...      120   \n",
       "2      Shailene Woodley|Theo James|Kate Winslet|Ansel...      119   \n",
       "3      Harrison Ford|Mark Hamill|Carrie Fisher|Adam D...      136   \n",
       "4      Vin Diesel|Paul Walker|Jason Statham|Michelle ...      137   \n",
       "...                                                  ...      ...   \n",
       "10861  Michael Hynson|Robert August|Lord 'Tally Ho' B...       95   \n",
       "10862  James Garner|Eva Marie Saint|Yves Montand|Tosh...      176   \n",
       "10863  Innokentiy Smoktunovskiy|Oleg Efremov|Georgi Z...       94   \n",
       "10864  Tatsuya Mihashi|Akiko Wakabayashi|Mie Hama|Joh...       80   \n",
       "10865  Harold P. Warren|Tom Neyman|John Reynolds|Dian...       74   \n",
       "\n",
       "                                          genres release_date  release_year  \\\n",
       "0      Action|Adventure|Science Fiction|Thriller       6/9/15          2015   \n",
       "1      Action|Adventure|Science Fiction|Thriller      5/13/15          2015   \n",
       "2             Adventure|Science Fiction|Thriller      3/18/15          2015   \n",
       "3       Action|Adventure|Science Fiction|Fantasy     12/15/15          2015   \n",
       "4                          Action|Crime|Thriller       4/1/15          2015   \n",
       "...                                          ...          ...           ...   \n",
       "10861                                Documentary      6/15/66          1966   \n",
       "10862                     Action|Adventure|Drama     12/21/66          1966   \n",
       "10863                             Mystery|Comedy       1/1/66          1966   \n",
       "10864                              Action|Comedy      11/2/66          1966   \n",
       "10865                                     Horror     11/15/66          1966   \n",
       "\n",
       "         budget_adj   revenue_adj  \n",
       "0      1.379999e+08  1.392446e+09  \n",
       "1      1.379999e+08  3.481613e+08  \n",
       "2      1.012000e+08  2.716190e+08  \n",
       "3      1.839999e+08  1.902723e+09  \n",
       "4      1.747999e+08  1.385749e+09  \n",
       "...             ...           ...  \n",
       "10861  0.000000e+00  0.000000e+00  \n",
       "10862  0.000000e+00  0.000000e+00  \n",
       "10863  0.000000e+00  0.000000e+00  \n",
       "10864  0.000000e+00  0.000000e+00  \n",
       "10865  1.276423e+05  0.000000e+00  \n",
       "\n",
       "[10865 rows x 12 columns]"
      ],
      "text/html": "<div>\n<style scoped>\n    .dataframe tbody tr th:only-of-type {\n        vertical-align: middle;\n    }\n\n    .dataframe tbody tr th {\n        vertical-align: top;\n    }\n\n    .dataframe thead th {\n        text-align: right;\n    }\n</style>\n<table border=\"1\" class=\"dataframe\">\n  <thead>\n    <tr style=\"text-align: right;\">\n      <th></th>\n      <th>id</th>\n      <th>popularity</th>\n      <th>budget</th>\n      <th>revenue</th>\n      <th>original_title</th>\n      <th>cast</th>\n      <th>runtime</th>\n      <th>genres</th>\n      <th>release_date</th>\n      <th>release_year</th>\n      <th>budget_adj</th>\n      <th>revenue_adj</th>\n    </tr>\n  </thead>\n  <tbody>\n    <tr>\n      <th>0</th>\n      <td>135397</td>\n      <td>32.985763</td>\n      <td>150000000</td>\n      <td>1513528810</td>\n      <td>Jurassic World</td>\n      <td>Chris Pratt|Bryce Dallas Howard|Irrfan Khan|Vi...</td>\n      <td>124</td>\n      <td>Action|Adventure|Science Fiction|Thriller</td>\n      <td>6/9/15</td>\n      <td>2015</td>\n      <td>1.379999e+08</td>\n      <td>1.392446e+09</td>\n    </tr>\n    <tr>\n      <th>1</th>\n      <td>76341</td>\n      <td>28.419936</td>\n      <td>150000000</td>\n      <td>378436354</td>\n      <td>Mad Max: Fury Road</td>\n      <td>Tom Hardy|Charlize Theron|Hugh Keays-Byrne|Nic...</td>\n      <td>120</td>\n      <td>Action|Adventure|Science Fiction|Thriller</td>\n      <td>5/13/15</td>\n      <td>2015</td>\n      <td>1.379999e+08</td>\n      <td>3.481613e+08</td>\n    </tr>\n    <tr>\n      <th>2</th>\n      <td>262500</td>\n      <td>13.112507</td>\n      <td>110000000</td>\n      <td>295238201</td>\n      <td>Insurgent</td>\n      <td>Shailene Woodley|Theo James|Kate Winslet|Ansel...</td>\n      <td>119</td>\n      <td>Adventure|Science Fiction|Thriller</td>\n      <td>3/18/15</td>\n      <td>2015</td>\n      <td>1.012000e+08</td>\n      <td>2.716190e+08</td>\n    </tr>\n    <tr>\n      <th>3</th>\n      <td>140607</td>\n      <td>11.173104</td>\n      <td>200000000</td>\n      <td>2068178225</td>\n      <td>Star Wars: The Force Awakens</td>\n      <td>Harrison Ford|Mark Hamill|Carrie Fisher|Adam D...</td>\n      <td>136</td>\n      <td>Action|Adventure|Science Fiction|Fantasy</td>\n      <td>12/15/15</td>\n      <td>2015</td>\n      <td>1.839999e+08</td>\n      <td>1.902723e+09</td>\n    </tr>\n    <tr>\n      <th>4</th>\n      <td>168259</td>\n      <td>9.335014</td>\n      <td>190000000</td>\n      <td>1506249360</td>\n      <td>Furious 7</td>\n      <td>Vin Diesel|Paul Walker|Jason Statham|Michelle ...</td>\n      <td>137</td>\n      <td>Action|Crime|Thriller</td>\n      <td>4/1/15</td>\n      <td>2015</td>\n      <td>1.747999e+08</td>\n      <td>1.385749e+09</td>\n    </tr>\n    <tr>\n      <th>...</th>\n      <td>...</td>\n      <td>...</td>\n      <td>...</td>\n      <td>...</td>\n      <td>...</td>\n      <td>...</td>\n      <td>...</td>\n      <td>...</td>\n      <td>...</td>\n      <td>...</td>\n      <td>...</td>\n      <td>...</td>\n    </tr>\n    <tr>\n      <th>10861</th>\n      <td>21</td>\n      <td>0.080598</td>\n      <td>0</td>\n      <td>0</td>\n      <td>The Endless Summer</td>\n      <td>Michael Hynson|Robert August|Lord 'Tally Ho' B...</td>\n      <td>95</td>\n      <td>Documentary</td>\n      <td>6/15/66</td>\n      <td>1966</td>\n      <td>0.000000e+00</td>\n      <td>0.000000e+00</td>\n    </tr>\n    <tr>\n      <th>10862</th>\n      <td>20379</td>\n      <td>0.065543</td>\n      <td>0</td>\n      <td>0</td>\n      <td>Grand Prix</td>\n      <td>James Garner|Eva Marie Saint|Yves Montand|Tosh...</td>\n      <td>176</td>\n      <td>Action|Adventure|Drama</td>\n      <td>12/21/66</td>\n      <td>1966</td>\n      <td>0.000000e+00</td>\n      <td>0.000000e+00</td>\n    </tr>\n    <tr>\n      <th>10863</th>\n      <td>39768</td>\n      <td>0.065141</td>\n      <td>0</td>\n      <td>0</td>\n      <td>Beregis Avtomobilya</td>\n      <td>Innokentiy Smoktunovskiy|Oleg Efremov|Georgi Z...</td>\n      <td>94</td>\n      <td>Mystery|Comedy</td>\n      <td>1/1/66</td>\n      <td>1966</td>\n      <td>0.000000e+00</td>\n      <td>0.000000e+00</td>\n    </tr>\n    <tr>\n      <th>10864</th>\n      <td>21449</td>\n      <td>0.064317</td>\n      <td>0</td>\n      <td>0</td>\n      <td>What's Up, Tiger Lily?</td>\n      <td>Tatsuya Mihashi|Akiko Wakabayashi|Mie Hama|Joh...</td>\n      <td>80</td>\n      <td>Action|Comedy</td>\n      <td>11/2/66</td>\n      <td>1966</td>\n      <td>0.000000e+00</td>\n      <td>0.000000e+00</td>\n    </tr>\n    <tr>\n      <th>10865</th>\n      <td>22293</td>\n      <td>0.035919</td>\n      <td>19000</td>\n      <td>0</td>\n      <td>Manos: The Hands of Fate</td>\n      <td>Harold P. Warren|Tom Neyman|John Reynolds|Dian...</td>\n      <td>74</td>\n      <td>Horror</td>\n      <td>11/15/66</td>\n      <td>1966</td>\n      <td>1.276423e+05</td>\n      <td>0.000000e+00</td>\n    </tr>\n  </tbody>\n</table>\n<p>10865 rows × 12 columns</p>\n</div>"
     },
     "metadata": {},
     "execution_count": 401
    }
   ],
   "source": [
    "df"
   ]
  },
  {
   "cell_type": "code",
   "execution_count": 402,
   "metadata": {},
   "outputs": [
    {
     "output_type": "execute_result",
     "data": {
      "text/plain": [
       "       runtime                original_title\n",
       "0          124                Jurassic World\n",
       "1          120            Mad Max: Fury Road\n",
       "2          119                     Insurgent\n",
       "3          136  Star Wars: The Force Awakens\n",
       "4          137                     Furious 7\n",
       "...        ...                           ...\n",
       "10861       95            The Endless Summer\n",
       "10862      176                    Grand Prix\n",
       "10863       94           Beregis Avtomobilya\n",
       "10864       80        What's Up, Tiger Lily?\n",
       "10865       74      Manos: The Hands of Fate\n",
       "\n",
       "[10865 rows x 2 columns]"
      ],
      "text/html": "<div>\n<style scoped>\n    .dataframe tbody tr th:only-of-type {\n        vertical-align: middle;\n    }\n\n    .dataframe tbody tr th {\n        vertical-align: top;\n    }\n\n    .dataframe thead th {\n        text-align: right;\n    }\n</style>\n<table border=\"1\" class=\"dataframe\">\n  <thead>\n    <tr style=\"text-align: right;\">\n      <th></th>\n      <th>runtime</th>\n      <th>original_title</th>\n    </tr>\n  </thead>\n  <tbody>\n    <tr>\n      <th>0</th>\n      <td>124</td>\n      <td>Jurassic World</td>\n    </tr>\n    <tr>\n      <th>1</th>\n      <td>120</td>\n      <td>Mad Max: Fury Road</td>\n    </tr>\n    <tr>\n      <th>2</th>\n      <td>119</td>\n      <td>Insurgent</td>\n    </tr>\n    <tr>\n      <th>3</th>\n      <td>136</td>\n      <td>Star Wars: The Force Awakens</td>\n    </tr>\n    <tr>\n      <th>4</th>\n      <td>137</td>\n      <td>Furious 7</td>\n    </tr>\n    <tr>\n      <th>...</th>\n      <td>...</td>\n      <td>...</td>\n    </tr>\n    <tr>\n      <th>10861</th>\n      <td>95</td>\n      <td>The Endless Summer</td>\n    </tr>\n    <tr>\n      <th>10862</th>\n      <td>176</td>\n      <td>Grand Prix</td>\n    </tr>\n    <tr>\n      <th>10863</th>\n      <td>94</td>\n      <td>Beregis Avtomobilya</td>\n    </tr>\n    <tr>\n      <th>10864</th>\n      <td>80</td>\n      <td>What's Up, Tiger Lily?</td>\n    </tr>\n    <tr>\n      <th>10865</th>\n      <td>74</td>\n      <td>Manos: The Hands of Fate</td>\n    </tr>\n  </tbody>\n</table>\n<p>10865 rows × 2 columns</p>\n</div>"
     },
     "metadata": {},
     "execution_count": 402
    }
   ],
   "source": [
    "#runtime in 2006 question5\n",
    "df.loc[:,[\"runtime\",\"original_title\"]]"
   ]
  },
  {
   "cell_type": "code",
   "execution_count": 403,
   "metadata": {},
   "outputs": [
    {
     "output_type": "execute_result",
     "data": {
      "text/plain": [
       "runtime    102.07179\n",
       "dtype: float64"
      ]
     },
     "metadata": {},
     "execution_count": 403
    }
   ],
   "source": [
    "df.loc[:,[\"runtime\"]].mean()"
   ]
  },
  {
   "cell_type": "code",
   "execution_count": 404,
   "metadata": {},
   "outputs": [
    {
     "output_type": "execute_result",
     "data": {
      "text/plain": [
       "      release_year\n",
       "6554          2006\n",
       "6555          2006\n",
       "6556          2006\n",
       "6557          2006\n",
       "6558          2006\n",
       "...            ...\n",
       "6957          2006\n",
       "6958          2006\n",
       "6959          2006\n",
       "6960          2006\n",
       "6961          2006\n",
       "\n",
       "[408 rows x 1 columns]"
      ],
      "text/html": "<div>\n<style scoped>\n    .dataframe tbody tr th:only-of-type {\n        vertical-align: middle;\n    }\n\n    .dataframe tbody tr th {\n        vertical-align: top;\n    }\n\n    .dataframe thead th {\n        text-align: right;\n    }\n</style>\n<table border=\"1\" class=\"dataframe\">\n  <thead>\n    <tr style=\"text-align: right;\">\n      <th></th>\n      <th>release_year</th>\n    </tr>\n  </thead>\n  <tbody>\n    <tr>\n      <th>6554</th>\n      <td>2006</td>\n    </tr>\n    <tr>\n      <th>6555</th>\n      <td>2006</td>\n    </tr>\n    <tr>\n      <th>6556</th>\n      <td>2006</td>\n    </tr>\n    <tr>\n      <th>6557</th>\n      <td>2006</td>\n    </tr>\n    <tr>\n      <th>6558</th>\n      <td>2006</td>\n    </tr>\n    <tr>\n      <th>...</th>\n      <td>...</td>\n    </tr>\n    <tr>\n      <th>6957</th>\n      <td>2006</td>\n    </tr>\n    <tr>\n      <th>6958</th>\n      <td>2006</td>\n    </tr>\n    <tr>\n      <th>6959</th>\n      <td>2006</td>\n    </tr>\n    <tr>\n      <th>6960</th>\n      <td>2006</td>\n    </tr>\n    <tr>\n      <th>6961</th>\n      <td>2006</td>\n    </tr>\n  </tbody>\n</table>\n<p>408 rows × 1 columns</p>\n</div>"
     },
     "metadata": {},
     "execution_count": 404
    }
   ],
   "source": [
    "filt = (df[\"release_year\"]==2006)\n",
    "df.loc[filt,[\"release_year\"]]"
   ]
  },
  {
   "cell_type": "code",
   "execution_count": 405,
   "metadata": {},
   "outputs": [
    {
     "output_type": "execute_result",
     "data": {
      "text/plain": [
       "runtime    101.683824\n",
       "dtype: float64"
      ]
     },
     "metadata": {},
     "execution_count": 405
    }
   ],
   "source": [
    "df.loc[filt,[\"runtime\"]].mean()\n",
    "#average runtime in 2006 is 101.68mins"
   ]
  },
  {
   "cell_type": "code",
   "execution_count": 406,
   "metadata": {},
   "outputs": [
    {
     "output_type": "execute_result",
     "data": {
      "text/plain": [
       "                                          genres  \\\n",
       "0      Action|Adventure|Science Fiction|Thriller   \n",
       "1      Action|Adventure|Science Fiction|Thriller   \n",
       "2             Adventure|Science Fiction|Thriller   \n",
       "3       Action|Adventure|Science Fiction|Fantasy   \n",
       "4                          Action|Crime|Thriller   \n",
       "...                                          ...   \n",
       "10861                                Documentary   \n",
       "10862                     Action|Adventure|Drama   \n",
       "10863                             Mystery|Comedy   \n",
       "10864                              Action|Comedy   \n",
       "10865                                     Horror   \n",
       "\n",
       "                                                    cast  \n",
       "0      Chris Pratt|Bryce Dallas Howard|Irrfan Khan|Vi...  \n",
       "1      Tom Hardy|Charlize Theron|Hugh Keays-Byrne|Nic...  \n",
       "2      Shailene Woodley|Theo James|Kate Winslet|Ansel...  \n",
       "3      Harrison Ford|Mark Hamill|Carrie Fisher|Adam D...  \n",
       "4      Vin Diesel|Paul Walker|Jason Statham|Michelle ...  \n",
       "...                                                  ...  \n",
       "10861  Michael Hynson|Robert August|Lord 'Tally Ho' B...  \n",
       "10862  James Garner|Eva Marie Saint|Yves Montand|Tosh...  \n",
       "10863  Innokentiy Smoktunovskiy|Oleg Efremov|Georgi Z...  \n",
       "10864  Tatsuya Mihashi|Akiko Wakabayashi|Mie Hama|Joh...  \n",
       "10865  Harold P. Warren|Tom Neyman|John Reynolds|Dian...  \n",
       "\n",
       "[10865 rows x 2 columns]"
      ],
      "text/html": "<div>\n<style scoped>\n    .dataframe tbody tr th:only-of-type {\n        vertical-align: middle;\n    }\n\n    .dataframe tbody tr th {\n        vertical-align: top;\n    }\n\n    .dataframe thead th {\n        text-align: right;\n    }\n</style>\n<table border=\"1\" class=\"dataframe\">\n  <thead>\n    <tr style=\"text-align: right;\">\n      <th></th>\n      <th>genres</th>\n      <th>cast</th>\n    </tr>\n  </thead>\n  <tbody>\n    <tr>\n      <th>0</th>\n      <td>Action|Adventure|Science Fiction|Thriller</td>\n      <td>Chris Pratt|Bryce Dallas Howard|Irrfan Khan|Vi...</td>\n    </tr>\n    <tr>\n      <th>1</th>\n      <td>Action|Adventure|Science Fiction|Thriller</td>\n      <td>Tom Hardy|Charlize Theron|Hugh Keays-Byrne|Nic...</td>\n    </tr>\n    <tr>\n      <th>2</th>\n      <td>Adventure|Science Fiction|Thriller</td>\n      <td>Shailene Woodley|Theo James|Kate Winslet|Ansel...</td>\n    </tr>\n    <tr>\n      <th>3</th>\n      <td>Action|Adventure|Science Fiction|Fantasy</td>\n      <td>Harrison Ford|Mark Hamill|Carrie Fisher|Adam D...</td>\n    </tr>\n    <tr>\n      <th>4</th>\n      <td>Action|Crime|Thriller</td>\n      <td>Vin Diesel|Paul Walker|Jason Statham|Michelle ...</td>\n    </tr>\n    <tr>\n      <th>...</th>\n      <td>...</td>\n      <td>...</td>\n    </tr>\n    <tr>\n      <th>10861</th>\n      <td>Documentary</td>\n      <td>Michael Hynson|Robert August|Lord 'Tally Ho' B...</td>\n    </tr>\n    <tr>\n      <th>10862</th>\n      <td>Action|Adventure|Drama</td>\n      <td>James Garner|Eva Marie Saint|Yves Montand|Tosh...</td>\n    </tr>\n    <tr>\n      <th>10863</th>\n      <td>Mystery|Comedy</td>\n      <td>Innokentiy Smoktunovskiy|Oleg Efremov|Georgi Z...</td>\n    </tr>\n    <tr>\n      <th>10864</th>\n      <td>Action|Comedy</td>\n      <td>Tatsuya Mihashi|Akiko Wakabayashi|Mie Hama|Joh...</td>\n    </tr>\n    <tr>\n      <th>10865</th>\n      <td>Horror</td>\n      <td>Harold P. Warren|Tom Neyman|John Reynolds|Dian...</td>\n    </tr>\n  </tbody>\n</table>\n<p>10865 rows × 2 columns</p>\n</div>"
     },
     "metadata": {},
     "execution_count": 406
    }
   ],
   "source": [
    "#vin diesel and emma watson\n",
    "df.loc[:,[\"genres\",\"cast\"]]"
   ]
  },
  {
   "cell_type": "code",
   "execution_count": 407,
   "metadata": {},
   "outputs": [
    {
     "output_type": "execute_result",
     "data": {
      "text/plain": [
       "                                                 genres\n",
       "4                                 Action|Crime|Thriller\n",
       "41                             Fantasy|Action|Adventure\n",
       "630                    Action|Science Fiction|Adventure\n",
       "1539                        Action|Crime|Drama|Thriller\n",
       "1907                                       Action|Drama\n",
       "2438  Adventure|Animation|Family|Fantasy|Science Fic...\n",
       "2753                              Action|Crime|Thriller\n",
       "2766                                     Crime|Thriller\n",
       "2942          Action|Adventure|Science Fiction|Thriller\n",
       "3619                              Action|Thriller|Crime\n",
       "3924                                             Action\n",
       "4974                                       Action|Drama\n",
       "5226                                             Action\n",
       "5437                    Science Fiction|Action|Thriller\n",
       "5650                              Action|Thriller|Crime\n",
       "5793                   Action|Animation|Science Fiction\n",
       "6204                Action|Comedy|Drama|Family|Thriller\n",
       "6774                          Drama|Action|Comedy|Crime\n",
       "7024          Adventure|Action|Thriller|Science Fiction\n",
       "7208          Action|Animation|Science Fiction|Thriller\n",
       "8684                    Thriller|Science Fiction|Action\n",
       "8685                               Crime|Drama|Thriller"
      ],
      "text/html": "<div>\n<style scoped>\n    .dataframe tbody tr th:only-of-type {\n        vertical-align: middle;\n    }\n\n    .dataframe tbody tr th {\n        vertical-align: top;\n    }\n\n    .dataframe thead th {\n        text-align: right;\n    }\n</style>\n<table border=\"1\" class=\"dataframe\">\n  <thead>\n    <tr style=\"text-align: right;\">\n      <th></th>\n      <th>genres</th>\n    </tr>\n  </thead>\n  <tbody>\n    <tr>\n      <th>4</th>\n      <td>Action|Crime|Thriller</td>\n    </tr>\n    <tr>\n      <th>41</th>\n      <td>Fantasy|Action|Adventure</td>\n    </tr>\n    <tr>\n      <th>630</th>\n      <td>Action|Science Fiction|Adventure</td>\n    </tr>\n    <tr>\n      <th>1539</th>\n      <td>Action|Crime|Drama|Thriller</td>\n    </tr>\n    <tr>\n      <th>1907</th>\n      <td>Action|Drama</td>\n    </tr>\n    <tr>\n      <th>2438</th>\n      <td>Adventure|Animation|Family|Fantasy|Science Fic...</td>\n    </tr>\n    <tr>\n      <th>2753</th>\n      <td>Action|Crime|Thriller</td>\n    </tr>\n    <tr>\n      <th>2766</th>\n      <td>Crime|Thriller</td>\n    </tr>\n    <tr>\n      <th>2942</th>\n      <td>Action|Adventure|Science Fiction|Thriller</td>\n    </tr>\n    <tr>\n      <th>3619</th>\n      <td>Action|Thriller|Crime</td>\n    </tr>\n    <tr>\n      <th>3924</th>\n      <td>Action</td>\n    </tr>\n    <tr>\n      <th>4974</th>\n      <td>Action|Drama</td>\n    </tr>\n    <tr>\n      <th>5226</th>\n      <td>Action</td>\n    </tr>\n    <tr>\n      <th>5437</th>\n      <td>Science Fiction|Action|Thriller</td>\n    </tr>\n    <tr>\n      <th>5650</th>\n      <td>Action|Thriller|Crime</td>\n    </tr>\n    <tr>\n      <th>5793</th>\n      <td>Action|Animation|Science Fiction</td>\n    </tr>\n    <tr>\n      <th>6204</th>\n      <td>Action|Comedy|Drama|Family|Thriller</td>\n    </tr>\n    <tr>\n      <th>6774</th>\n      <td>Drama|Action|Comedy|Crime</td>\n    </tr>\n    <tr>\n      <th>7024</th>\n      <td>Adventure|Action|Thriller|Science Fiction</td>\n    </tr>\n    <tr>\n      <th>7208</th>\n      <td>Action|Animation|Science Fiction|Thriller</td>\n    </tr>\n    <tr>\n      <th>8684</th>\n      <td>Thriller|Science Fiction|Action</td>\n    </tr>\n    <tr>\n      <th>8685</th>\n      <td>Crime|Drama|Thriller</td>\n    </tr>\n  </tbody>\n</table>\n</div>"
     },
     "metadata": {},
     "execution_count": 407
    }
   ],
   "source": [
    "df.fillna(\"abc\",inplace = True)\n",
    "filt = (df[\"cast\"])\n",
    "filt = df[\"cast\"].str.contains(\"Vin Diesel\")\n",
    "df.loc[filt,[\"genres\"]]"
   ]
  },
  {
   "cell_type": "code",
   "execution_count": 408,
   "metadata": {},
   "outputs": [
    {
     "output_type": "execute_result",
     "data": {
      "text/plain": [
       "['Action|Crime|Thriller',\n",
       " 'Fantasy|Action|Adventure',\n",
       " 'Action|Science Fiction|Adventure',\n",
       " 'Action|Crime|Drama|Thriller',\n",
       " 'Action|Drama',\n",
       " 'Adventure|Animation|Family|Fantasy|Science Fiction',\n",
       " 'Action|Crime|Thriller',\n",
       " 'Crime|Thriller',\n",
       " 'Action|Adventure|Science Fiction|Thriller',\n",
       " 'Action|Thriller|Crime',\n",
       " 'Action',\n",
       " 'Action|Drama',\n",
       " 'Action',\n",
       " 'Science Fiction|Action|Thriller',\n",
       " 'Action|Thriller|Crime',\n",
       " 'Action|Animation|Science Fiction',\n",
       " 'Action|Comedy|Drama|Family|Thriller',\n",
       " 'Drama|Action|Comedy|Crime',\n",
       " 'Adventure|Action|Thriller|Science Fiction',\n",
       " 'Action|Animation|Science Fiction|Thriller',\n",
       " 'Thriller|Science Fiction|Action',\n",
       " 'Crime|Drama|Thriller']"
      ]
     },
     "metadata": {},
     "execution_count": 408
    }
   ],
   "source": [
    "data = df.loc[filt,\"genres\"]\n",
    "data.tolist()"
   ]
  },
  {
   "cell_type": "code",
   "execution_count": 409,
   "metadata": {},
   "outputs": [
    {
     "output_type": "execute_result",
     "data": {
      "text/plain": [
       "{'Action': 19,\n",
       " 'Thriller': 13,\n",
       " 'Crime': 8,\n",
       " 'Science Fiction': 8,\n",
       " 'Drama': 6,\n",
       " 'Adventure': 5,\n",
       " 'Animation': 3,\n",
       " 'Comedy': 2,\n",
       " 'Family': 2,\n",
       " 'Fantasy': 2}"
      ]
     },
     "metadata": {},
     "execution_count": 409
    }
   ],
   "source": [
    "filt = (df[\"cast\"].str.contains(\"Vin Diesel\"))\n",
    "vin_df = df.loc[filt,\"genres\"].apply(lambda x:x.split(\"|\"))\n",
    "genres_ = set()\n",
    "total_list = []\n",
    "for gen in vin_df.tolist():\n",
    "    for i in gen:\n",
    "        total_list.append(i)\n",
    "        genres_.add(i)\n",
    "genres_\n",
    "\n",
    "most_common = dict.fromkeys(genres_)\n",
    "for gen in genres_:\n",
    "    most_common[gen] = total_list.count(gen)\n",
    "\n",
    "most_common = dict(sorted(most_common.items(),key=lambda x:x[1],reverse=True))\n",
    "most_common #action-vin diesel"
   ]
  },
  {
   "cell_type": "code",
   "execution_count": 410,
   "metadata": {},
   "outputs": [
    {
     "output_type": "execute_result",
     "data": {
      "text/plain": [
       "                                genres\n",
       "146            Horror|Mystery|Thriller\n",
       "686                    Drama|Adventure\n",
       "1389          Adventure|Fantasy|Family\n",
       "1923          Adventure|Fantasy|Family\n",
       "2634          Adventure|Fantasy|Family\n",
       "3020           Animation|Comedy|Family\n",
       "3374          Adventure|Family|Fantasy\n",
       "3912          Adventure|Fantasy|Family\n",
       "4388                     Drama|Romance\n",
       "5546                       Drama|Crime\n",
       "6190          Adventure|Fantasy|Family\n",
       "6962          Adventure|Fantasy|Family\n",
       "7388  Adventure|Fantasy|Family|Mystery\n",
       "7786                      Drama|Family"
      ],
      "text/html": "<div>\n<style scoped>\n    .dataframe tbody tr th:only-of-type {\n        vertical-align: middle;\n    }\n\n    .dataframe tbody tr th {\n        vertical-align: top;\n    }\n\n    .dataframe thead th {\n        text-align: right;\n    }\n</style>\n<table border=\"1\" class=\"dataframe\">\n  <thead>\n    <tr style=\"text-align: right;\">\n      <th></th>\n      <th>genres</th>\n    </tr>\n  </thead>\n  <tbody>\n    <tr>\n      <th>146</th>\n      <td>Horror|Mystery|Thriller</td>\n    </tr>\n    <tr>\n      <th>686</th>\n      <td>Drama|Adventure</td>\n    </tr>\n    <tr>\n      <th>1389</th>\n      <td>Adventure|Fantasy|Family</td>\n    </tr>\n    <tr>\n      <th>1923</th>\n      <td>Adventure|Fantasy|Family</td>\n    </tr>\n    <tr>\n      <th>2634</th>\n      <td>Adventure|Fantasy|Family</td>\n    </tr>\n    <tr>\n      <th>3020</th>\n      <td>Animation|Comedy|Family</td>\n    </tr>\n    <tr>\n      <th>3374</th>\n      <td>Adventure|Family|Fantasy</td>\n    </tr>\n    <tr>\n      <th>3912</th>\n      <td>Adventure|Fantasy|Family</td>\n    </tr>\n    <tr>\n      <th>4388</th>\n      <td>Drama|Romance</td>\n    </tr>\n    <tr>\n      <th>5546</th>\n      <td>Drama|Crime</td>\n    </tr>\n    <tr>\n      <th>6190</th>\n      <td>Adventure|Fantasy|Family</td>\n    </tr>\n    <tr>\n      <th>6962</th>\n      <td>Adventure|Fantasy|Family</td>\n    </tr>\n    <tr>\n      <th>7388</th>\n      <td>Adventure|Fantasy|Family|Mystery</td>\n    </tr>\n    <tr>\n      <th>7786</th>\n      <td>Drama|Family</td>\n    </tr>\n  </tbody>\n</table>\n</div>"
     },
     "metadata": {},
     "execution_count": 410
    }
   ],
   "source": [
    "filt = (df [\"cast\"])\n",
    "filt = df[\"cast\"].str.contains(\"Emma Watson\")\n",
    "df.loc[(filt),[\"genres\"]]"
   ]
  },
  {
   "cell_type": "code",
   "execution_count": 411,
   "metadata": {},
   "outputs": [
    {
     "output_type": "execute_result",
     "data": {
      "text/plain": [
       "['Horror|Mystery|Thriller',\n",
       " 'Drama|Adventure',\n",
       " 'Adventure|Fantasy|Family',\n",
       " 'Adventure|Fantasy|Family',\n",
       " 'Adventure|Fantasy|Family',\n",
       " 'Animation|Comedy|Family',\n",
       " 'Adventure|Family|Fantasy',\n",
       " 'Adventure|Fantasy|Family',\n",
       " 'Drama|Romance',\n",
       " 'Drama|Crime',\n",
       " 'Adventure|Fantasy|Family',\n",
       " 'Adventure|Fantasy|Family',\n",
       " 'Adventure|Fantasy|Family|Mystery',\n",
       " 'Drama|Family']"
      ]
     },
     "metadata": {},
     "execution_count": 411
    }
   ],
   "source": [
    "data = df.loc[filt,\"genres\"]\n",
    "data.tolist()"
   ]
  },
  {
   "cell_type": "code",
   "execution_count": 412,
   "metadata": {},
   "outputs": [
    {
     "output_type": "execute_result",
     "data": {
      "text/plain": [
       "{'Family': 10,\n",
       " 'Adventure': 9,\n",
       " 'Fantasy': 8,\n",
       " 'Drama': 4,\n",
       " 'Mystery': 2,\n",
       " 'Comedy': 1,\n",
       " 'Animation': 1,\n",
       " 'Crime': 1,\n",
       " 'Thriller': 1,\n",
       " 'Romance': 1,\n",
       " 'Horror': 1}"
      ]
     },
     "metadata": {},
     "execution_count": 412
    }
   ],
   "source": [
    "filt = (df[\"cast\"].str.contains(\"Emma Watson\"))\n",
    "emma_df = df.loc[filt,\"genres\"].apply(lambda x:x.split(\"|\"))\n",
    "genres_ = set()\n",
    "total_list = []\n",
    "for gen in emma_df.tolist():\n",
    "    for i in gen:\n",
    "        total_list.append(i)\n",
    "        genres_.add(i)\n",
    "genres_\n",
    "\n",
    "most_common = dict.fromkeys(genres_)\n",
    "for gen in genres_:\n",
    "    most_common[gen] = total_list.count(gen)\n",
    "\n",
    "most_common = dict(sorted(most_common.items(),key=lambda x:x[1],reverse=True))\n",
    "most_common #family - emma watson"
   ]
  }
 ],
 "metadata": {
  "kernelspec": {
   "name": "python391jvsc74a57bd01801ceaf405092b0d21b67ec6be073aa6c4356483343c11fdb944d35b2c4feb2",
   "display_name": "Python 3.9.1 64-bit"
  },
  "language_info": {
   "codemirror_mode": {
    "name": "ipython",
    "version": 2
   },
   "file_extension": ".py",
   "mimetype": "text/x-python",
   "name": "python",
   "nbconvert_exporter": "python",
   "pygments_lexer": "ipython2",
   "version": "3.9.1"
  },
  "pycharm": {
   "stem_cell": {
    "cell_type": "raw",
    "source": [
     "import pandas as pd\n",
     "\n",
     "df = pd.read_csv(\"C:\\Users\\Tanisha Admane\\PycharmProjects\\djangoProject\\djangoProject\")\n",
     "length = len(df)\n",
     "\n",
     "class questions:\n",
     "    def q_1(self):\n",
     "        print('Question 1')\n",
     "        lists = sorted(df['budget'], reverse=True)\n",
     "        for j in range(length):\n",
     "            if (lists[j] == 0):\n",
     "                break\n",
     "\n",
     "        for k in range(length):\n",
     "            if (df['budget'][k] == lists[j - 3]):\n",
     "                break\n",
     "\n",
     "        print('The movie with the Third lowest budget is-', df['original_title'][k], 'and the non-zero budget is',\n",
     "              df['budget'][k], 'dollar')\n",
     "\n",
     "        for i in range(length):\n",
     "            if (df['budget'][i] == lists[2]):\n",
     "                break\n",
     "\n",
     "        print('The movie with the Third highest budget is-', df['original_title'][i], 'and the budget is',\n",
     "              df['budget'][i], 'dollar')\n",
     "        print('\\n')\n",
     "\n",
     "\n",
     "    def q_5(self,length):\n",
     "        count=0\n",
     "        for i in range(length):\n",
     "            if (df['release_year'][i] == 2006):\n",
     "                break\n",
     "        for j in range(length):\n",
     "            if (df['release_year'][j] == 2006):\n",
     "                count = count + 1\n",
     "        print('Question 5')\n",
     "        print('The average run time of the movies of 2006 is:',((sum(df['runtime'][i:i + count])) / count))\n",
     "\n",
     "\n",
     "obj=questions()\n",
     "obj.q_1()\n",
     "obj.q_5(length)\n",
     "\n",
     "\n"
    ],
    "metadata": {
     "collapsed": false
    }
   }
  },
  "metadata": {
   "interpreter": {
    "hash": "1801ceaf405092b0d21b67ec6be073aa6c4356483343c11fdb944d35b2c4feb2"
   }
  }
 },
 "nbformat": 4,
 "nbformat_minor": 0
}